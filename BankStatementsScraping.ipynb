{
  "nbformat": 4,
  "nbformat_minor": 0,
  "metadata": {
    "colab": {
      "name": "BankStatementsScraping.ipynb",
      "version": "0.3.2",
      "provenance": [],
      "collapsed_sections": []
    },
    "kernelspec": {
      "name": "python3",
      "display_name": "Python 3"
    }
  },
  "cells": [
    {
      "cell_type": "code",
      "metadata": {
        "id": "a5bQ_RkptqTI",
        "colab_type": "code",
        "outputId": "6df2d365-5185-4dab-fcc9-2468a0c361e6",
        "colab": {
          "base_uri": "https://localhost:8080/",
          "height": 193
        }
      },
      "source": [
        "pip install PyPDF2"
      ],
      "execution_count": 0,
      "outputs": [
        {
          "output_type": "stream",
          "text": [
            "Collecting PyPDF2\n",
            "\u001b[?25l  Downloading https://files.pythonhosted.org/packages/b4/01/68fcc0d43daf4c6bdbc6b33cc3f77bda531c86b174cac56ef0ffdb96faab/PyPDF2-1.26.0.tar.gz (77kB)\n",
            "\u001b[K     |████████████████████████████████| 81kB 3.1MB/s \n",
            "\u001b[?25hBuilding wheels for collected packages: PyPDF2\n",
            "  Building wheel for PyPDF2 (setup.py) ... \u001b[?25l\u001b[?25hdone\n",
            "  Stored in directory: /root/.cache/pip/wheels/53/84/19/35bc977c8bf5f0c23a8a011aa958acd4da4bbd7a229315c1b7\n",
            "Successfully built PyPDF2\n",
            "Installing collected packages: PyPDF2\n",
            "Successfully installed PyPDF2-1.26.0\n"
          ],
          "name": "stdout"
        }
      ]
    },
    {
      "cell_type": "code",
      "metadata": {
        "id": "SkG6MeTTqaB4",
        "colab_type": "code",
        "outputId": "00b3963e-421b-4a28-a168-e6a4f2e0947c",
        "colab": {
          "base_uri": "https://localhost:8080/",
          "height": 124
        }
      },
      "source": [
        "# Load the Drive helper and mount\n",
        "from google.colab import drive\n",
        "\n",
        "# This will prompt for authorization.\n",
        "drive.mount('/content/drive')"
      ],
      "execution_count": 0,
      "outputs": [
        {
          "output_type": "stream",
          "text": [
            "Go to this URL in a browser: https://accounts.google.com/o/oauth2/auth?client_id=947318989803-6bn6qk8qdgf4n4g3pfee6491hc0brc4i.apps.googleusercontent.com&redirect_uri=urn%3Aietf%3Awg%3Aoauth%3A2.0%3Aoob&scope=email%20https%3A%2F%2Fwww.googleapis.com%2Fauth%2Fdocs.test%20https%3A%2F%2Fwww.googleapis.com%2Fauth%2Fdrive%20https%3A%2F%2Fwww.googleapis.com%2Fauth%2Fdrive.photos.readonly%20https%3A%2F%2Fwww.googleapis.com%2Fauth%2Fpeopleapi.readonly&response_type=code\n",
            "\n",
            "Enter your authorization code:\n",
            "··········\n",
            "Mounted at /content/drive\n"
          ],
          "name": "stdout"
        }
      ]
    },
    {
      "cell_type": "code",
      "metadata": {
        "id": "37fyqnrvtr4R",
        "colab_type": "code",
        "outputId": "b63cad41-4839-4a8e-9e01-23fad03e88e6",
        "colab": {
          "base_uri": "https://localhost:8080/",
          "height": 52
        }
      },
      "source": [
        "#We will use pypdf to find number of pages\n",
        "import PyPDF2\n",
        "# pdf file object\n",
        "# you can find find the pdf file with complete code in below\n",
        "pdfFileObj = open('/content/drive/My Drive/s2.pdf', 'rb')\n",
        "# pdf reader object\n",
        "pdfReader = PyPDF2.PdfFileReader(pdfFileObj)\n",
        "# number of pages in pdf\n",
        "print(pdfReader.numPages)\n",
        "no_of_pages = pdfReader.numPages\n",
        "no_of_pages"
      ],
      "execution_count": 0,
      "outputs": [
        {
          "output_type": "stream",
          "text": [
            "2\n"
          ],
          "name": "stdout"
        },
        {
          "output_type": "execute_result",
          "data": {
            "text/plain": [
              "2"
            ]
          },
          "metadata": {
            "tags": []
          },
          "execution_count": 3
        }
      ]
    },
    {
      "cell_type": "code",
      "metadata": {
        "id": "OoOJr3a5twje",
        "colab_type": "code",
        "outputId": "04629b34-a43f-4fc0-fd3c-1adc3f3d0562",
        "colab": {
          "base_uri": "https://localhost:8080/",
          "height": 211
        }
      },
      "source": [
        "pip install pdfminer.six"
      ],
      "execution_count": 0,
      "outputs": [
        {
          "output_type": "stream",
          "text": [
            "Collecting pdfminer.six\n",
            "\u001b[?25l  Downloading https://files.pythonhosted.org/packages/8a/fd/6e8746e6965d1a7ea8e97253e3d79e625da5547e8f376f88de5d024bacb9/pdfminer.six-20181108-py2.py3-none-any.whl (5.6MB)\n",
            "\u001b[K     |████████████████████████████████| 5.6MB 2.8MB/s \n",
            "\u001b[?25hCollecting pycryptodome (from pdfminer.six)\n",
            "\u001b[?25l  Downloading https://files.pythonhosted.org/packages/9f/2a/d4f6b8802cc9b428f285cad6ff486ecacc8d3ae7c8cdccaae26359ccac4e/pycryptodome-3.8.2-cp36-cp36m-manylinux1_x86_64.whl (9.6MB)\n",
            "\u001b[K     |████████████████████████████████| 9.6MB 32.3MB/s \n",
            "\u001b[?25hRequirement already satisfied: six in /usr/local/lib/python3.6/dist-packages (from pdfminer.six) (1.12.0)\n",
            "Requirement already satisfied: sortedcontainers in /usr/local/lib/python3.6/dist-packages (from pdfminer.six) (2.1.0)\n",
            "Installing collected packages: pycryptodome, pdfminer.six\n",
            "Successfully installed pdfminer.six-20181108 pycryptodome-3.8.2\n"
          ],
          "name": "stdout"
        }
      ]
    },
    {
      "cell_type": "code",
      "metadata": {
        "id": "bHZ-JAWwtw2P",
        "colab_type": "code",
        "colab": {}
      },
      "source": [
        "#This module scraps PDF content converts them in string of arrays and returned.\n",
        "from pdfminer.pdfinterp import PDFResourceManager, PDFPageInterpreter\n",
        "from pdfminer.converter import TextConverter\n",
        "from pdfminer.layout import LAParams\n",
        "from pdfminer.pdfpage import PDFPage\n",
        "from io import StringIO\n",
        "import os \n",
        "\n",
        "#This scrapes the PDF\n",
        "def convert_pdf_to_txt(path, pages=None):\n",
        "    if not pages:\n",
        "        pagenums = set()\n",
        "    else:\n",
        "        \n",
        "        pagenums = set(pages)\n",
        "        print(pagenums)\n",
        "    output = StringIO()\n",
        "    manager = PDFResourceManager()\n",
        "    converter = TextConverter(manager, output, laparams=LAParams())\n",
        "    interpreter = PDFPageInterpreter(manager, converter)\n",
        "\n",
        "    infile = open(path, 'rb')\n",
        "    for page in PDFPage.get_pages(infile, pagenums):\n",
        "        interpreter.process_page(page)\n",
        "    infile.close()\n",
        "    converter.close()\n",
        "    text = output.getvalue()\n",
        "    output.close()\n",
        "    return text"
      ],
      "execution_count": 0,
      "outputs": []
    },
    {
      "cell_type": "code",
      "metadata": {
        "id": "PGs6_T_NuX4w",
        "colab_type": "code",
        "outputId": "c32b77e2-1567-4212-aa9c-b545afc66d63",
        "colab": {
          "base_uri": "https://localhost:8080/",
          "height": 89
        }
      },
      "source": [
        "#The number of pages found previously in the PDF is now used as parameter to the converter function\n",
        "text = convert_pdf_to_txt('/content/drive/My Drive/s2.pdf', pages=range(no_of_pages))\n",
        "arr = text.split('\\n') #We split by new line\n",
        "print(arr)\n",
        "trans_details = arr\n",
        "\n",
        "#We have to find summary on the pdf \n",
        "#We will retrieve the labels by finding the index of  Beginning and Ending balance.\n",
        "#Each bankstatement has different set of labels, so we will retrieve on the runtime instead of hard coding\n",
        "st_index_labels = arr.index('Beginning Balance')\n",
        "end_index_labels = arr.index('Ending Balance')\n",
        "labels = arr[st_index_labels:end_index_labels+1]\n",
        "print(labels)"
      ],
      "execution_count": 0,
      "outputs": [
        {
          "output_type": "stream",
          "text": [
            "{0, 1}\n",
            "['                                                       ', '', '      ', '', 'JPMorgan Chase Bank, N.A.', 'P O Box 182051', 'Columbus, OH 43218- 2051', '', ' ', '', ' ', '', '00129906 DRE 703 219 04519 NNNNNNNNNNN   1 000000000 09 0000', 'NIDHI PANKAJ SHAH', '373 WESTERN DR APT M', 'SANTA CRUZ CA 95060-3081 ', '', 'January 15, 2019through February 13, 2019', ' 000000326177786', 'Account Number:    ', '', 'CUSTOMER SERVICE INFORMATION', 'Chase.com', 'Web site:', '1-800-935-9935', 'Service Center:', '1-800-242-7383', 'Deaf and Hard of Hearing:', '1-877-312-4273', 'Para Espanol:', 'International Calls:', '1-713-262-1679', '', '1', '2', '0', '0', '0', '0', '0', '0', '0', '1', '0', '1', '0', '6', '0', '9', '9', '2', '1', '0', '', '*start*summary', '', 'CHECKING SUMMARY', '', 'Chase College Checking', '', ' ', 'Beginning Balance', 'ATM & Debit Card Withdrawals', 'Electronic Withdrawals', 'Ending Balance', '', '*end*summary', '', '*start*post summary message1', '', ' ', '', '$4,337.88', '-154.49', '-1,130.00', '$3,053.39', '', 'Your account ending in 5912 is linked to this account for overdraft protection.', '', 'Cash bonuses paid to this account during 2018 totaled $100.00. This amount will be added to any interest paid during 2018', 'for tax reporting purposes.', '', '*end*post summary message1', '', '*start*transaction detail', '', 'TRANSACTION DETAIL', '', 'Beginning Balance', '', 'Quickpay With Zelle Payment To 8312959358 Jpm202538579', 'Card Purchase With Pin  01/21 Safeway Store     2607 Santa Cruz CA Card', '8744', 'Recurring Card Purchase 01/20 Leetcode.Com Httpsleetcode CA Card 8744', 'Card Purchase           01/22 USA*Snack Soda Vending Santa Cruz CA Card', '8744', 'Card Purchase           01/24 Ucsc Dining Services #2 Santa Cruz CA Card', '8744', 'Card Purchase           01/24 Ucsc Dining Services #2 Santa Cruz CA Card', '8744', 'Card Purchase With Pin  01/25 Safeway Store     2607 Santa Cruz CA Card', '8744', 'Card Purchase With Pin  01/26 Ucsc Bay Tree Bkstore Santa Cruz CA Card', '8744', 'Quickpay With Zelle Payment To 8312959358 Jpm203798366', 'Card Purchase           01/28 Coinmach Northern Calif Union City CA Card', '8744', 'Card Purchase           01/28 Coinmach Northern Calif Union City CA Card', '8744', 'Card Purchase           01/28 Coinmach Northern Calif Union City CA Card', '8744', 'Card Purchase           01/28 Coinmach Northern Calif Union City CA Card', '8744', '', '01/22', '01/22', '', '01/22', '01/24', '', '01/25', '', '01/25', '', '01/28', '', '01/28', '', '01/28', '01/28', '', '01/28', '', '01/28', '', '01/28', '', '*end*transaction detail', '', '-400.00', '-9.96', '', '-35.00', '-1.00', '', '-6.25', '', '-4.95', '', '-10.21', '', '-1.74', '', '-730.00', '-2.75', '', '-2.75', '', '-2.50', '', '-2.50', '', 'Page', '', '$4,337.88', '3,937.88', '3,927.92', '', '3,892.92', '3,891.92', '', '3,885.67', '', '3,880.72', '', '3,870.51', '', '3,868.77', '', '3,138.77', '3,136.02', '', '3,133.27', '', '3,130.77', '', '3,128.27', '', ' 1 ', '', 'of', '', ' 2', '', '\\x0cJanuary 15, 2019through February 13, 2019', ' 000000326177786', 'Account Number:    ', '', '*start*transaction detail', '', 'TRANSACTION DETAIL (continued)', '', '  ', '', '02/04', '', '02/05', '', '02/05', '', '02/11', '', '02/13', '', '*end*transaction detail', '', '*start*dre portrait disclosure message area', '', 'Card Purchase           02/02 Comcast Californ Cs 1 800-266-2278 CA Card', '8744', 'Card Purchase           02/04 USA*Snack Soda Vending Santa Cruz CA Card', '8744', 'Card Purchase           02/04 USA*Snack Soda Vending Santa Cruz CA Card', '8744', 'Card Purchase With Pin  02/10 Safeway Store     2607 Santa Cruz CA Card', '8744', 'Card Purchase           02/12 USA*Snack Soda Vending Santa Cruz CA Card', '8744', '', 'Ending Balance', '', '-57.03', '', '3,071.24', '', '-1.00', '', '-1.00', '', '-14.85', '', '-1.00', '', '3,070.24', '', '3,069.24', '', '3,054.39', '', '3,053.39', '', '$3,053.39', '', 'IN CASE OF ERRORS OR QUESTIONS ABOUT YOUR ELECTRONIC FUNDS TRANSFERS: ', ' Call us at 1-866-564-2262 or write us at the ', 'address on the front of this statement (non-personal accounts contact Customer Service) immediately if you think your statement or receipt is ', 'incorrect or if you need more information about a transfer listed on the statement or receipt.  ', 'For personal accounts only: We must hear from you no later than 60 days after we sent you the FIRST statement on which the problem or error ', 'appeared.  Be prepared to give us the following information:', '', 'Your name and account number', 'The dollar amount of the suspected error', 'A description of the error or transfer you are unsure of, why you believe it is an error, or why you need more information.', '', 'We will investigate your complaint and will correct any error promptly.  If we take more than 10 business days (or 20 business days for new ', 'accounts) to do this, we will credit your account for the amount you think is in error so that you will have use of the money during the time it takes ', 'us to complete our investigation.', '', 'IN CASE OF ERRORS OR QUESTIONS ABOUT NON-ELECTRONIC TRANSACTIONS:', 'incorrect or if you need more information about any non-electronic transactions (checks or deposits) on this statement.  If any such error appears, ', 'you must notify the bank in writing no later than 30 days after the statement was made available to you.  For more complete details, see the ', 'Account Rules and Regulations or other applicable account agreement that governs your account. Deposit products and services are offered by ', 'JPMorgan Chase Bank, N.A.  Member FDIC', '', '  Contact the bank immediately if your statement is ', '', '*end*dre portrait disclosure message area', '', 'JPMorgan Chase Bank, N.A. Member FDIC', '', '  ', '', 'Page', '', ' 2 ', '', 'of', '', ' 2', '', '\\x0c']\n",
            "['Beginning Balance', 'ATM & Debit Card Withdrawals', 'Electronic Withdrawals', 'Ending Balance']\n"
          ],
          "name": "stdout"
        }
      ]
    },
    {
      "cell_type": "code",
      "metadata": {
        "id": "Ex3NhRZnt3VW",
        "colab_type": "code",
        "outputId": "1ab5159c-c107-4b06-af99-857bf82e8b26",
        "colab": {
          "base_uri": "https://localhost:8080/",
          "height": 35
        }
      },
      "source": [
        "#We need to obtain amounts for the corresponding labels \n",
        "index = end_index_labels\n",
        "st='Ending Balance' # We take the last label as the start index and iterate till we see word starting with the $\n",
        "while index<(len(arr)-1):\n",
        "  if arr[index] != '': \n",
        "    if arr[index][0] == '$':\n",
        "      st=arr[index]\n",
        "      \n",
        "      break\n",
        "  index=index+1\n",
        "  \n",
        "\n",
        "st\n",
        "print(index)"
      ],
      "execution_count": 0,
      "outputs": [
        {
          "output_type": "stream",
          "text": [
            "72\n"
          ],
          "name": "stdout"
        }
      ]
    },
    {
      "cell_type": "code",
      "metadata": {
        "id": "tMSdVV75unNi",
        "colab_type": "code",
        "outputId": "e0b12476-ff9a-45c9-bf56-a5b69d31da7c",
        "colab": {
          "base_uri": "https://localhost:8080/",
          "height": 69
        }
      },
      "source": [
        "\n",
        "st_index = index\n",
        "print(st_index)\n",
        "print(len(labels))\n",
        "summary = (arr[st_index:st_index+len(labels)]) # We take start index and iterate till number of labels obtained\n",
        "\n",
        "#We have summary and labels ready\n",
        "#If we want to use them in analysis, we need to clean them\n",
        "\n",
        "#Cleaning summary\n",
        "summary[len(summary)-1] = summary[len(summary)-1][1:]\n",
        "#Wrangle Strings to remove dollar sign and commas. Convert them to float to plot them\n",
        "summary[0] = summary[0][1:] # This removes dollar sign in the front, so we can use for plotting.\n",
        "summary = [s.replace(',','') for s in summary] # This removes commas from the amount\n",
        "\n",
        "print(summary)\n",
        "summary = [float(i) for i in summary] # converts the whole list into flots\n"
      ],
      "execution_count": 0,
      "outputs": [
        {
          "output_type": "stream",
          "text": [
            "72\n",
            "4\n",
            "['4337.88', '-154.49', '-1130.00', '3053.39']\n"
          ],
          "name": "stdout"
        }
      ]
    },
    {
      "cell_type": "code",
      "metadata": {
        "id": "Ukm6ulMIu7Pc",
        "colab_type": "code",
        "outputId": "c3e8412e-2d43-4ead-e440-c5d4de98645f",
        "colab": {
          "base_uri": "https://localhost:8080/",
          "height": 393
        }
      },
      "source": [
        "import matplotlib.pyplot as plt\n",
        "plt.plot(labels, summary, color='g',markersize=14)\n",
        "plt.xticks(rotation=45)"
      ],
      "execution_count": 0,
      "outputs": [
        {
          "output_type": "execute_result",
          "data": {
            "text/plain": [
              "([0, 1, 2, 3], <a list of 4 Text xticklabel objects>)"
            ]
          },
          "metadata": {
            "tags": []
          },
          "execution_count": 9
        },
        {
          "output_type": "display_data",
          "data": {
            "image/png": "[encoded data removed]",
            "text/plain": [
              "<Figure size 432x288 with 1 Axes>"
            ]
          },
          "metadata": {
            "tags": []
          }
        }
      ]
    },
    {
      "cell_type": "code",
      "metadata": {
        "id": "8B4gVYgwxcxD",
        "colab_type": "code",
        "outputId": "3b0e871b-61d8-43c0-c8da-9356e77ce22e",
        "colab": {
          "base_uri": "https://localhost:8080/",
          "height": 393
        }
      },
      "source": [
        "plt.bar(labels,summary,label=\"Example two\", color='g')\n",
        "plt.xticks(rotation=45)\n"
      ],
      "execution_count": 0,
      "outputs": [
        {
          "output_type": "execute_result",
          "data": {
            "text/plain": [
              "([0, 1, 2, 3], <a list of 4 Text xticklabel objects>)"
            ]
          },
          "metadata": {
            "tags": []
          },
          "execution_count": 10
        },
        {
          "output_type": "display_data",
          "data": {
            "image/png": "[encoded data removed]",
            "text/plain": [
              "<Figure size 432x288 with 1 Axes>"
            ]
          },
          "metadata": {
            "tags": []
          }
        }
      ]
    },
    {
      "cell_type": "code",
      "metadata": {
        "id": "URVMvEb-xljX",
        "colab_type": "code",
        "outputId": "68967590-5da5-49d5-f223-be578ec7dd00",
        "colab": {
          "base_uri": "https://localhost:8080/",
          "height": 347
        }
      },
      "source": [
        "import re\n",
        "\n",
        "#This scrapes data from \n",
        "def cleanDates(trans_details):\n",
        "  n_date =[]\n",
        "  for date in trans_details:\n",
        "    isMatch = re.match('^\\d{2}\\/\\d{2}', date)\n",
        "    if isMatch and len(date)==5:\n",
        "      #print(date)\n",
        "      n_date.append(date)\n",
        "  return n_date\n",
        "\n",
        "def getMonths(dates):\n",
        "  months=[]\n",
        "  for month in dates:\n",
        "    months.append(month[0:2])\n",
        "  return months\n",
        "\n",
        "\n",
        "dates = cleanDates(trans_details)\n",
        "print(len(dates))\n",
        "\n",
        "months =  getMonths(dates)\n",
        "#months\n",
        "dates"
      ],
      "execution_count": 0,
      "outputs": [
        {
          "output_type": "stream",
          "text": [
            "18\n"
          ],
          "name": "stdout"
        },
        {
          "output_type": "execute_result",
          "data": {
            "text/plain": [
              "['01/22',\n",
              " '01/22',\n",
              " '01/22',\n",
              " '01/24',\n",
              " '01/25',\n",
              " '01/25',\n",
              " '01/28',\n",
              " '01/28',\n",
              " '01/28',\n",
              " '01/28',\n",
              " '01/28',\n",
              " '01/28',\n",
              " '01/28',\n",
              " '02/04',\n",
              " '02/05',\n",
              " '02/05',\n",
              " '02/11',\n",
              " '02/13']"
            ]
          },
          "metadata": {
            "tags": []
          },
          "execution_count": 11
        }
      ]
    },
    {
      "cell_type": "code",
      "metadata": {
        "id": "uXx2aO67VZGQ",
        "colab_type": "code",
        "outputId": "e9f49f35-32ec-4373-b27d-39d9a65ff505",
        "colab": {
          "base_uri": "https://localhost:8080/",
          "height": 52
        }
      },
      "source": [
        "#Adjust the page number.\n",
        "#Test which is the start page where the transaction details are\n",
        "#If you give a page which does not have table then tabula will throw an exception\n",
        "\n",
        "startpage=0\n",
        "for page in range(no_of_pages):\n",
        "  try:\n",
        "    text = convert_pdf_to_txt('/content/drive/My Drive/s2.pdf', pages=[page])\n",
        "    arr = text.split('\\n')\n",
        "    index = arr.index('*start*transaction detail')\n",
        "    if(index>=0):\n",
        "      break\n",
        "  except ValueError:\n",
        "    startpage = startpage + 1\n",
        "    \n",
        "startpage\n",
        "\n",
        "\n"
      ],
      "execution_count": 0,
      "outputs": [
        {
          "output_type": "stream",
          "text": [
            "{0}\n"
          ],
          "name": "stdout"
        },
        {
          "output_type": "execute_result",
          "data": {
            "text/plain": [
              "0"
            ]
          },
          "metadata": {
            "tags": []
          },
          "execution_count": 12
        }
      ]
    },
    {
      "cell_type": "code",
      "metadata": {
        "id": "3xQmohVnUepV",
        "colab_type": "code",
        "outputId": "1c2394ac-cb35-4678-a6c2-9084951e7fa3",
        "colab": {
          "base_uri": "https://localhost:8080/",
          "height": 263
        }
      },
      "source": [
        "!pip install tabula-py"
      ],
      "execution_count": 0,
      "outputs": [
        {
          "output_type": "stream",
          "text": [
            "Collecting tabula-py\n",
            "\u001b[?25l  Downloading https://files.pythonhosted.org/packages/1f/f6/20e43951738260cff0005ea175b83ada43e0a74a12e729d0bcabc03b129a/tabula_py-1.3.1-py2.py3-none-any.whl (20.4MB)\n",
            "\u001b[K     |████████████████████████████████| 20.4MB 2.7MB/s \n",
            "\u001b[?25hRequirement already satisfied: pandas in /usr/local/lib/python3.6/dist-packages (from tabula-py) (0.24.2)\n",
            "Requirement already satisfied: numpy in /usr/local/lib/python3.6/dist-packages (from tabula-py) (1.16.4)\n",
            "Requirement already satisfied: urllib3 in /usr/local/lib/python3.6/dist-packages (from tabula-py) (1.24.3)\n",
            "Collecting distro (from tabula-py)\n",
            "  Downloading https://files.pythonhosted.org/packages/ea/35/82f79b92fa4d937146c660a6482cee4f3dfa1f97ff3d2a6f3ecba33e712e/distro-1.4.0-py2.py3-none-any.whl\n",
            "Requirement already satisfied: python-dateutil>=2.5.0 in /usr/local/lib/python3.6/dist-packages (from pandas->tabula-py) (2.5.3)\n",
            "Requirement already satisfied: pytz>=2011k in /usr/local/lib/python3.6/dist-packages (from pandas->tabula-py) (2018.9)\n",
            "Requirement already satisfied: six>=1.5 in /usr/local/lib/python3.6/dist-packages (from python-dateutil>=2.5.0->pandas->tabula-py) (1.12.0)\n",
            "Installing collected packages: distro, tabula-py\n",
            "Successfully installed distro-1.4.0 tabula-py-1.3.1\n"
          ],
          "name": "stdout"
        }
      ]
    },
    {
      "cell_type": "code",
      "metadata": {
        "id": "uIL10HOKzMHb",
        "colab_type": "code",
        "colab": {}
      },
      "source": [
        "#from tabula import wrapper\n",
        "\n",
        "\n",
        "#for page in range(startpage,)\n",
        "#tables = wrapper.read_pdf(\"/content/drive/My Drive/s2.pdf\",multiple_tables=True, pages=0)\n",
        "\n",
        "#print(len(tables[0][2]))\n",
        "#for table in tables:\n",
        " # for tab in range(len(table[0][2])):\n",
        "  #  print(tables[0][2][tab])\n"
      ],
      "execution_count": 0,
      "outputs": []
    },
    {
      "cell_type": "code",
      "metadata": {
        "id": "JoUtcJcdXBEO",
        "colab_type": "code",
        "outputId": "76889a4e-cdc9-4310-eaf1-cdd1e487e1b5",
        "colab": {
          "base_uri": "https://localhost:8080/",
          "height": 817
        }
      },
      "source": [
        "import os\n",
        "#os.path.abspath(\"E:/Documents/myPy/\")\n",
        "#Strange observation: 1) Though pages all means iterating all the pages and multi tables true should help to accumulate multiple table. But it has only one\n",
        "# 2) All the first page where the transaction starts like s4,s6 does fine  or has 0,1 as amounts otherwise it is on 0,2 \n",
        "from tabula import wrapper\n",
        "import re\n",
        "import math\n",
        "balance=[]\n",
        "amount=[]\n",
        "description=[]\n",
        "  #print(len(tables[0][1]))\n",
        "\n",
        "for page in range(startpage,no_of_pages):\n",
        "  print(page)\n",
        "  try:\n",
        "    tables = wrapper.read_pdf(\"/content/drive/My Drive/s2.pdf\",multiple_tables=True, pages=page+1)\n",
        "    print(tables[0][2])\n",
        "    if((page)==startpage):\n",
        "      try:\n",
        "\n",
        "        for tab in range(len(tables[0][1])):\n",
        "              amount.append(tables[0][1][tab])\n",
        "\n",
        "      except:\n",
        "        print(\"Amount Hi\")\n",
        "    else:\n",
        "      try:\n",
        "\n",
        "        for tab in range(len(tables[0][2])):\n",
        "              amount.append(tables[0][2][tab])\n",
        "\n",
        "      except:\n",
        "        print(\"Amount Hi\")\n",
        "\n",
        "\n",
        "\n",
        "    try:\n",
        "\n",
        "      for tab in range(len(tables[0][0])):\n",
        "            description.append(tables[0][0][tab])\n",
        "    except:\n",
        "      print(\" Description Hi\")\n",
        "\n",
        "    if((page)==startpage):\n",
        "      try:\n",
        "\n",
        "        for tab in range(len(tables[0][2])):\n",
        "              balance.append(tables[0][2][tab])\n",
        "      except:\n",
        "        print(\"Balance Hi\")\n",
        "    else:\n",
        "      try:\n",
        "\n",
        "        for tab in range(len(tables[0][3])):\n",
        "              balance.append(tables[0][3][tab])\n",
        "      except:\n",
        "        print(\"Balance Hi\")\n",
        "\n",
        "    #balance\n",
        "    #cleanedList = [x for x in balance if str(x) != 'nan']\n",
        "    #cleanedlist = [x for x in balance if x != 'nan']\n",
        "    #cleanedList\n",
        "\n",
        "    #amount\n",
        "    print(amount)\n",
        "    print(balance)\n",
        "  except:\n",
        "    print(\"table error\")\n",
        "\n",
        "    #print(tables[0][2][tab])\n",
        "#for tab in range(len(tables[0][1])):\n",
        "# print(tables[0][1][tab])\n",
        "\n",
        "\n",
        "\n",
        "    \n",
        "  \n",
        "\n",
        "\n",
        "\n",
        "\n"
      ],
      "execution_count": 0,
      "outputs": [
        {
          "output_type": "stream",
          "text": [
            "0\n",
            "0           NaN\n",
            "1     $4,337.88\n",
            "2      3,937.88\n",
            "3      3,927.92\n",
            "4           NaN\n",
            "5      3,892.92\n",
            "6      3,891.92\n",
            "7           NaN\n",
            "8      3,885.67\n",
            "9           NaN\n",
            "10     3,880.72\n",
            "11          NaN\n",
            "12     3,870.51\n",
            "13          NaN\n",
            "14     3,868.77\n",
            "15          NaN\n",
            "16     3,138.77\n",
            "17     3,136.02\n",
            "18          NaN\n",
            "19     3,133.27\n",
            "20          NaN\n",
            "21     3,130.77\n",
            "22          NaN\n",
            "23     3,128.27\n",
            "24          NaN\n",
            "25          NaN\n",
            "Name: 2, dtype: object\n",
            "[nan, nan, '-400.00', '-9.96', nan, '-35.00', '-1.00', nan, '-6.25', nan, '-4.95', nan, '-10.21', nan, '-1.74', nan, '-730.00', '-2.75', nan, '-2.75', nan, '-2.50', nan, '-2.50', nan, nan]\n",
            "[nan, '$4,337.88', '3,937.88', '3,927.92', nan, '3,892.92', '3,891.92', nan, '3,885.67', nan, '3,880.72', nan, '3,870.51', nan, '3,868.77', nan, '3,138.77', '3,136.02', nan, '3,133.27', nan, '3,130.77', nan, '3,128.27', nan, nan]\n",
            "1\n",
            "0        NaN\n",
            "1     -57.03\n",
            "2        NaN\n",
            "3      -1.00\n",
            "4        NaN\n",
            "5      -1.00\n",
            "6        NaN\n",
            "7     -14.85\n",
            "8        NaN\n",
            "9      -1.00\n",
            "10       NaN\n",
            "Name: 2, dtype: object\n",
            "[nan, nan, '-400.00', '-9.96', nan, '-35.00', '-1.00', nan, '-6.25', nan, '-4.95', nan, '-10.21', nan, '-1.74', nan, '-730.00', '-2.75', nan, '-2.75', nan, '-2.50', nan, '-2.50', nan, nan, nan, '-57.03', nan, '-1.00', nan, '-1.00', nan, '-14.85', nan, '-1.00', nan]\n",
            "[nan, '$4,337.88', '3,937.88', '3,927.92', nan, '3,892.92', '3,891.92', nan, '3,885.67', nan, '3,880.72', nan, '3,870.51', nan, '3,868.77', nan, '3,138.77', '3,136.02', nan, '3,133.27', nan, '3,130.77', nan, '3,128.27', nan, nan, nan, '3,071.24', nan, '3,070.24', nan, '3,069.24', nan, '3,054.39', nan, '3,053.39', nan]\n"
          ],
          "name": "stdout"
        }
      ]
    },
    {
      "cell_type": "code",
      "metadata": {
        "id": "f6San6qDlUbX",
        "colab_type": "code",
        "colab": {}
      },
      "source": [
        "def cleanDescription(description):\n",
        "  cleanedDescription=[]\n",
        "  for desc in description:\n",
        "    des = desc.split()\n",
        "    #print(des[0])\n",
        "    if(re.match(\"^\\d{2}\\/\\d{2}\",str(des[0]))):\n",
        "      #print(desc[5:])\n",
        "      cleanedDescription.append(desc[5:])\n",
        "  return cleanedDescription"
      ],
      "execution_count": 0,
      "outputs": []
    },
    {
      "cell_type": "code",
      "metadata": {
        "id": "zsGSfbMqUtIa",
        "colab_type": "code",
        "colab": {}
      },
      "source": [
        "def cleanAmountAndBalance(money):\n",
        "  cleanedList = [x for x in money if str(x) != 'nan']\n",
        "  cleanedList = [s.replace(',','') for s in cleanedList]\n",
        "  for i in range(len(cleanedList)):\n",
        "   \n",
        "    if(cleanedList[i][0] == '$'):\n",
        "      \n",
        "      cleanedList[i] = cleanedList[i][1:]\n",
        "      print(cleanedList[i])\n",
        "  return cleanedList"
      ],
      "execution_count": 0,
      "outputs": []
    },
    {
      "cell_type": "code",
      "metadata": {
        "id": "-ClMAOpNTOFR",
        "colab_type": "code",
        "outputId": "6f6bacaa-69b3-444c-e613-6baabbd1559a",
        "colab": {
          "base_uri": "https://localhost:8080/",
          "height": 72
        }
      },
      "source": [
        "print(amount)\n",
        "cleanedAmount = cleanAmountAndBalance(amount)\n",
        "cleanedAmount = [float(i) for i in cleanedAmount]\n",
        "cleanedAmount\n",
        "len(cleanedAmount)"
      ],
      "execution_count": 0,
      "outputs": [
        {
          "output_type": "stream",
          "text": [
            "[nan, nan, '-400.00', '-9.96', nan, '-35.00', '-1.00', nan, '-6.25', nan, '-4.95', nan, '-10.21', nan, '-1.74', nan, '-730.00', '-2.75', nan, '-2.75', nan, '-2.50', nan, '-2.50', nan, nan, nan, '-57.03', nan, '-1.00', nan, '-1.00', nan, '-14.85', nan, '-1.00', nan]\n"
          ],
          "name": "stdout"
        },
        {
          "output_type": "execute_result",
          "data": {
            "text/plain": [
              "18"
            ]
          },
          "metadata": {
            "tags": []
          },
          "execution_count": 17
        }
      ]
    },
    {
      "cell_type": "code",
      "metadata": {
        "id": "vXkFXHBATOUW",
        "colab_type": "code",
        "outputId": "5cf216b6-1971-4dd7-a075-56076bb85670",
        "colab": {
          "base_uri": "https://localhost:8080/",
          "height": 52
        }
      },
      "source": [
        "cleanedBalance = cleanAmountAndBalance(balance)\n",
        "cleanedBalance = [float(i) for i in cleanedBalance]\n",
        "cleanedBalance = cleanedBalance[1:]\n",
        "if len(cleanedBalance)>len(cleanedAmount):\n",
        "  cleanedBalance = cleanedBalance[:len(cleanedBalance)-1]\n",
        "\n",
        "len(cleanedBalance)\n"
      ],
      "execution_count": 0,
      "outputs": [
        {
          "output_type": "stream",
          "text": [
            "4337.88\n"
          ],
          "name": "stdout"
        },
        {
          "output_type": "execute_result",
          "data": {
            "text/plain": [
              "18"
            ]
          },
          "metadata": {
            "tags": []
          },
          "execution_count": 18
        }
      ]
    },
    {
      "cell_type": "code",
      "metadata": {
        "id": "PRM8bnucjhHo",
        "colab_type": "code",
        "colab": {}
      },
      "source": [
        ""
      ],
      "execution_count": 0,
      "outputs": []
    },
    {
      "cell_type": "code",
      "metadata": {
        "id": "Oan1ofUDTOiG",
        "colab_type": "code",
        "outputId": "741b2f1f-a66d-4670-d266-02d95918bebb",
        "colab": {
          "base_uri": "https://localhost:8080/",
          "height": 35
        }
      },
      "source": [
        "cleanedDescription = cleanDescription(description)\n",
        "cleanedDescription\n",
        "len(cleanedDescription)"
      ],
      "execution_count": 0,
      "outputs": [
        {
          "output_type": "execute_result",
          "data": {
            "text/plain": [
              "18"
            ]
          },
          "metadata": {
            "tags": []
          },
          "execution_count": 19
        }
      ]
    },
    {
      "cell_type": "code",
      "metadata": {
        "id": "JAdPVlr9jib2",
        "colab_type": "code",
        "outputId": "5c58b03c-54f6-4819-ef08-fbf2fb94e346",
        "colab": {
          "base_uri": "https://localhost:8080/",
          "height": 433
        }
      },
      "source": [
        "import pandas as pd\n",
        "bankStatementInfo = pd.DataFrame({\n",
        "                              'Dates': dates,\n",
        "                              'Months': months,\n",
        "                              'Description':cleanedDescription,\n",
        "                              'Amount': cleanedAmount,\n",
        "                              'Balance': cleanedBalance\n",
        "})\n",
        "print(bankStatementInfo.info())\n",
        "print(bankStatementInfo.head(10))\n"
      ],
      "execution_count": 0,
      "outputs": [
        {
          "output_type": "stream",
          "text": [
            "<class 'pandas.core.frame.DataFrame'>\n",
            "RangeIndex: 18 entries, 0 to 17\n",
            "Data columns (total 5 columns):\n",
            "Dates          18 non-null object\n",
            "Months         18 non-null object\n",
            "Description    18 non-null object\n",
            "Amount         18 non-null float64\n",
            "Balance        18 non-null float64\n",
            "dtypes: float64(2), object(3)\n",
            "memory usage: 800.0+ bytes\n",
            "None\n",
            "   Dates Months  ...  Amount  Balance\n",
            "0  01/22     01  ... -400.00  3937.88\n",
            "1  01/22     01  ...   -9.96  3927.92\n",
            "2  01/22     01  ...  -35.00  3892.92\n",
            "3  01/24     01  ...   -1.00  3891.92\n",
            "4  01/25     01  ...   -6.25  3885.67\n",
            "5  01/25     01  ...   -4.95  3880.72\n",
            "6  01/28     01  ...  -10.21  3870.51\n",
            "7  01/28     01  ...   -1.74  3868.77\n",
            "8  01/28     01  ... -730.00  3138.77\n",
            "9  01/28     01  ...   -2.75  3136.02\n",
            "\n",
            "[10 rows x 5 columns]\n"
          ],
          "name": "stdout"
        }
      ]
    },
    {
      "cell_type": "code",
      "metadata": {
        "id": "C_JbkWe_lOYW",
        "colab_type": "code",
        "colab": {}
      },
      "source": [
        "from pathlib import Path\n",
        "my_file = Path(\"/content/drive/My Drive/bankStatements.csv\")\n",
        "if my_file.is_file():\n",
        "\t\tbankStatementInfo.to_csv('/content/drive/My Drive/bankStatements.csv',index=False,header=False,sep=',',mode='a')\n",
        "else:\n",
        "  bankStatementInfo.to_csv('/content/drive/My Drive/bankStatements.csv',index=False,sep=',',mode='a')\n"
      ],
      "execution_count": 0,
      "outputs": []
    },
    {
      "cell_type": "code",
      "metadata": {
        "id": "WAKLPqeTSY75",
        "colab_type": "code",
        "outputId": "8074c1af-884c-4aeb-faca-ceb83143de22",
        "colab": {
          "base_uri": "https://localhost:8080/",
          "height": 35
        }
      },
      "source": [
        "ism = re.match(\"^\\d{2}\\/\\d{2}\",'01/22')\n",
        "if ism:\n",
        "  print(\"Hi\")"
      ],
      "execution_count": 0,
      "outputs": [
        {
          "output_type": "stream",
          "text": [
            "Hi\n"
          ],
          "name": "stdout"
        }
      ]
    },
    {
      "cell_type": "code",
      "metadata": {
        "id": "cbNl31lM4O-K",
        "colab_type": "code",
        "outputId": "3b5933ff-e820-487d-b9df-fbc177f11ceb",
        "colab": {
          "base_uri": "https://localhost:8080/",
          "height": 364
        }
      },
      "source": [
        "import pandas as pd\n",
        " \n",
        "data_url = '/content/drive/My Drive/bankStatements.csv'\n",
        "df = pd.read_csv('/content/drive/My Drive/bankStatements.csv',error_bad_lines=False)\n",
        "#print(\"Hello\")\n",
        "print(df.head(10))\n",
        "df_rank = df.groupby('Months')\n",
        "#print(df_rank.head(10))\n",
        "month=3\n",
        "dates = []\n",
        "amount = []\n",
        "for i in range(len(df)):\n",
        "\tif df.iloc[i]['Months'] == 2:\n",
        "\t\tdates.append(df.iloc[i]['Dates'])\n",
        "\t\tamount.append(df.iloc[i]['Amount'])\n",
        "\t\t\n",
        "#print(dates)\n",
        "grouped_dates=[]\n",
        "dayExpense=[]\n",
        "prevDate = dates[0].split('/')[1]\n",
        "sum=0\n",
        "print(prevDate)\n",
        "for d,a in zip(dates,amount):\n",
        "\tif d.split('/')[1] == prevDate:\n",
        "\t\tsum=sum+a\n",
        "\telse:\n",
        "\t\tgrouped_dates.append(prevDate)\n",
        "\t\tdayExpense.append(sum)\n",
        "\t\tsum = a\n",
        "\t\tprevDate = d.split('/')[1]\n",
        "grouped_dates.append(prevDate)\t\n",
        "dayExpense.append(sum)\n",
        "print(\" \")\n",
        "print(\"Dates\")\n",
        "print(grouped_dates)\n",
        "print(\" \")\n",
        "print('Expense per date')\n",
        "print(dayExpense)"
      ],
      "execution_count": 0,
      "outputs": [
        {
          "output_type": "stream",
          "text": [
            "   Dates  Months  ...  Amount  Balance\n",
            "0  01/22       1  ... -400.00  3937.88\n",
            "1  01/22       1  ...   -9.96  3927.92\n",
            "2  01/22       1  ...  -35.00  3892.92\n",
            "3  01/24       1  ...   -1.00  3891.92\n",
            "4  01/25       1  ...   -6.25  3885.67\n",
            "5  01/25       1  ...   -4.95  3880.72\n",
            "6  01/28       1  ...  -10.21  3870.51\n",
            "7  01/28       1  ...   -1.74  3868.77\n",
            "8  01/28       1  ... -730.00  3138.77\n",
            "9  01/28       1  ...   -2.75  3136.02\n",
            "\n",
            "[10 rows x 5 columns]\n",
            "04\n",
            " \n",
            "Dates\n",
            "['04', '05', '11', '13']\n",
            " \n",
            "Expense per date\n",
            "[-57.03, -2.0, -14.85, -1.0]\n"
          ],
          "name": "stdout"
        }
      ]
    },
    {
      "cell_type": "code",
      "metadata": {
        "id": "aeL9TIzC1jSV",
        "colab_type": "code",
        "outputId": "49889353-768b-4ae1-f399-210aeef8634f",
        "colab": {
          "base_uri": "https://localhost:8080/",
          "height": 293
        }
      },
      "source": [
        "import matplotlib.pyplot as plt\n",
        "plt.plot(grouped_dates,dayExpense,'-ok',color='r',markersize=14 ,markerfacecolor='white',markeredgecolor='gray',markeredgewidth=2)\n",
        "plt.xticks(rotation=45)"
      ],
      "execution_count": 0,
      "outputs": [
        {
          "output_type": "execute_result",
          "data": {
            "text/plain": [
              "([0, 1, 2, 3], <a list of 4 Text xticklabel objects>)"
            ]
          },
          "metadata": {
            "tags": []
          },
          "execution_count": 40
        },
        {
          "output_type": "display_data",
          "data": {
            "image/png": "[encoded data removed]",
            "text/plain": [
              "<Figure size 432x288 with 1 Axes>"
            ]
          },
          "metadata": {
            "tags": []
          }
        }
      ]
    },
    {
      "cell_type": "code",
      "metadata": {
        "id": "RwmUsUDU7OHK",
        "colab_type": "code",
        "outputId": "636b4b72-d039-43d4-8c74-f5d10d63b8cc",
        "colab": {
          "base_uri": "https://localhost:8080/",
          "height": 287
        }
      },
      "source": [
        "temp1=[]\n",
        "temp2=[]\n",
        "temp3=[]\n",
        "temp4=[]\n",
        "count=0\n",
        "for i in dayExpense:\n",
        "\t\tif i>0:\n",
        "\t\t\ttemp1.append(i)\n",
        "\t\t\ttemp3.append(grouped_dates[count])\n",
        "\t\telse:\n",
        "\t\t\ttemp2.append(i)\n",
        "\t\t\ttemp4.append(grouped_dates[count])\n",
        "\t\tcount=count+1\n",
        "\t\t\t\n",
        "\n",
        "\t\t#plt.style.use('seaborn-whitegrid')\n",
        "plt.bar(temp3,temp1,label=\"Example two\", color='g')\n",
        "plt.bar(temp4,temp2,label=\"Example two\", color='r')"
      ],
      "execution_count": 0,
      "outputs": [
        {
          "output_type": "execute_result",
          "data": {
            "text/plain": [
              "<BarContainer object of 4 artists>"
            ]
          },
          "metadata": {
            "tags": []
          },
          "execution_count": 42
        },
        {
          "output_type": "display_data",
          "data": {
            "image/png": "[encoded data removed]",
            "text/plain": [
              "<Figure size 432x288 with 1 Axes>"
            ]
          },
          "metadata": {
            "tags": []
          }
        }
      ]
    },
    {
      "cell_type": "code",
      "metadata": {
        "id": "9FcByJZp0djb",
        "colab_type": "code",
        "outputId": "4cd48133-5825-48d1-e09f-f348f46ebbac",
        "colab": {
          "base_uri": "https://localhost:8080/",
          "height": 35
        }
      },
      "source": [
        "keyword = \"Safeway\"\n",
        "keywordArr = keyword.split()\n",
        "data_url = '/content/drive/My Drive/bankStatements.csv'\n",
        "df = pd.read_csv(data_url)\n",
        "amount =0\n",
        "\t#common = keyword\n",
        "for i in range(len(df)):\n",
        "\t\tdesc = df.iloc[i]['Description'].split()\n",
        "\t\tcommon = set(keywordArr).intersection( set(desc) )\n",
        "\t\tif len(common) > 0:\n",
        "\t\t\t amount= amount+df.iloc[i]['Amount']\n",
        "\t\t\t  \n",
        "print(\"Safeway\")\t\t\t\n",
        "print(amount)"
      ],
      "execution_count": 0,
      "outputs": [
        {
          "output_type": "stream",
          "text": [
            "-35.02\n"
          ],
          "name": "stdout"
        }
      ]
    },
    {
      "cell_type": "code",
      "metadata": {
        "id": "3lhNHN7u1eTe",
        "colab_type": "code",
        "outputId": "6058034f-45be-469b-c554-d53ae37b7799",
        "colab": {
          "base_uri": "https://localhost:8080/",
          "height": 393
        }
      },
      "source": [
        "import matplotlib.pyplot as plt\n",
        "plt.plot(labels, summary, color='g',markersize=14)\n",
        "plt.xticks(rotation=45)"
      ],
      "execution_count": 0,
      "outputs": [
        {
          "output_type": "execute_result",
          "data": {
            "text/plain": [
              "([0, 1, 2, 3], <a list of 4 Text xticklabel objects>)"
            ]
          },
          "metadata": {
            "tags": []
          },
          "execution_count": 41
        },
        {
          "output_type": "display_data",
          "data": {
            "image/png": "[encoded data removed]",
            "text/plain": [
              "<Figure size 432x288 with 1 Axes>"
            ]
          },
          "metadata": {
            "tags": []
          }
        }
      ]
    }
  ]
}